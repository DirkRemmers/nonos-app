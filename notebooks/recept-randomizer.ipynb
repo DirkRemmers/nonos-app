{
 "cells": [
  {
   "cell_type": "code",
   "execution_count": 1,
   "metadata": {},
   "outputs": [],
   "source": [
    "from collections import defaultdict\n",
    "import random"
   ]
  },
  {
   "cell_type": "code",
   "execution_count": 2,
   "metadata": {},
   "outputs": [],
   "source": [
    "# maak receptenboek\n",
    "\n",
    "recepten = defaultdict()\n",
    "# tartelletjes\n",
    "recepten['tartelette'] = {}\n",
    "recepten['tartelette']['soorten'] = ['pecan karamel', 'lemon meringue', 'millionare shortbread', 'snicker', 'passievrucht meringue', 'rood fruit']\n",
    "recepten['tartelette']['prijs'] = 3.75\n",
    "recepten['tartelette']['max hoeveelheid per soort'] = 12\n",
    "recepten['tartelette']['max soorten'] = 2\n",
    "# brownie\n",
    "recepten['brownie'] = {}\n",
    "recepten['brownie']['soorten'] = ['brownie', 'blondie', 'oreo', 'stroopwafel', 'blondie pecan', 'blondie macadamia', 'rood fruit', 'pindakaas']\n",
    "recepten['brownie']['prijs'] = 3.00\n",
    "recepten['brownie']['max hoeveelheid per soort'] = 16\n",
    "recepten['brownie']['max soorten'] = 1\n",
    "# koeken\n",
    "recepten['koeken'] = {}\n",
    "recepten['koeken']['soorten'] = ['macadamia wit', 'chocolade', 'm&m', 'pecan chocolade', 'cranberry', 'fondantkoeken', 'oatmeal', 'nutella', 'bueno', 'red velvet']\n",
    "recepten['koeken']['prijs'] = 2.00\n",
    "recepten['koeken']['max hoeveelheid per soort'] = 10\n",
    "recepten['koeken']['max soorten'] = 2\n",
    "# cake\n",
    "recepten['cake'] = {}\n",
    "recepten['cake']['soorten'] = ['bramen', 'chocolade', 'normaal', 'blauwe bes', 'wortel', 'courgette', 'citroen maanzaad']\n",
    "recepten['cake']['prijs'] = 2.50 # per plakje\n",
    "recepten['cake']['max hoeveelheid per soort'] = 10 # plakken = 1 cake\n",
    "recepten['cake']['max soorten'] = 1\n",
    "# macarons\n",
    "recepten['macarons'] = {}\n",
    "recepten['macarons']['soorten'] = ['citroen', 'witte chocolade', 'chocolade', 'passievrucht', 'framboos', 'mokka', 'speculaas', 'appel', 'aardbei', 'mango']\n",
    "recepten['macarons']['prijs'] = 1.50\n",
    "recepten['macarons']['max hoeveelheid per soort'] = 30\n",
    "recepten['macarons']['max soorten'] = 3\n",
    "# fudge\n",
    "recepten['fudge'] = {}\n",
    "recepten['fudge']['soorten'] = ['ferrero', 'oreo', 'witte chocolade framboos', 'ruby pistache', 'karamel', 'pecan zeezout', 'puur']\n",
    "recepten['fudge']['prijs'] = 1.50\n",
    "recepten['fudge']['max hoeveelheid per soort'] = 16\n",
    "recepten['fudge']['max soorten'] = 1\n",
    "# cupcake\n",
    "recepten['cupcake'] = {}\n",
    "recepten['cupcake']['soorten'] = ['vanille', 'witte chocolade', 'chocolade', 'blauwe bes', 'bramen', 'citroen maanzaad', 'wortel', 'nutella']\n",
    "recepten['cupcake']['prijs'] = 3.00\n",
    "recepten['cupcake']['max hoeveelheid per soort'] = 12\n",
    "recepten['cupcake']['max soorten'] = 1\n",
    "# niet fruit taarten\n",
    "recepten['niet fruit taarten'] = {}\n",
    "recepten['niet fruit taarten']['soorten'] = ['carrotcake', 'cheesecake', 'chocolade karamel', 'chocolade maracuja', 'chocolade mousse', 'chocolade taart', 'framboos chocolade', 'mokka', 'nutella schuimtaart', 'oreo', 'red velvet', 'tiramisu', 'vegan carrotcake']\n",
    "recepten['niet fruit taarten']['prijs'] = 4.00\n",
    "recepten['niet fruit taarten']['max hoeveelheid per soort'] = 10\n",
    "recepten['niet fruit taarten']['max soorten'] = 1\n",
    "# fruit taarten\n",
    "recepten['fruit taarten'] = {}\n",
    "recepten['fruit taarten']['soorten'] = ['annanas bavarois', 'biscuit banaan', 'biscuit lemomcurd aardbei', 'bosvruchten yoghurt', 'citroen meringue', 'limoncello tiramisu', 'pavlova', 'slagroom rood fruit']\n",
    "recepten['fruit taarten']['prijs'] = 4.00\n",
    "recepten['fruit taarten']['max hoeveelheid per soort'] = 10\n",
    "recepten['fruit taarten']['max soorten'] = 1\n",
    "# monchou taarten\n",
    "recepten['monchou taarten'] = {}\n",
    "recepten['monchou taarten']['soorten'] = ['monchou aardbei', 'monchou citroen', 'monchou kers', 'monchou kokos limoen', 'monchou oreo']\n",
    "recepten['monchou taarten']['prijs'] = 3.50\n",
    "recepten['monchou taarten']['max hoeveelheid per soort'] = 8\n",
    "recepten['monchou taarten']['max soorten'] = 1\n",
    "# appeltaart\n",
    "recepten['appeltaart'] = {}\n",
    "recepten['appeltaart']['soorten'] = ['appeltaart', 'appeltaart']\n",
    "recepten['appeltaart']['prijs'] = 3.50\n",
    "recepten['appeltaart']['max hoeveelheid per soort'] = 8\n",
    "recepten['appeltaart']['max soorten'] = 2\n"
   ]
  },
  {
   "cell_type": "code",
   "execution_count": 4,
   "metadata": {},
   "outputs": [
    {
     "name": "stdout",
     "output_type": "stream",
     "text": [
      "tartelette = ['millionare shortbread', 'rood fruit']\n",
      "brownie = ['pindakaas']\n",
      "koeken = ['m&m', 'red velvet']\n",
      "cake = ['wortel']\n",
      "macarons = ['passievrucht', 'speculaas', 'mango']\n",
      "fudge = ['witte chocolade framboos']\n",
      "cupcake = ['bramen']\n",
      "niet fruit taarten = ['carrotcake']\n",
      "fruit taarten = ['pavlova']\n",
      "monchou taarten = ['monchou citroen']\n",
      "appeltaart = ['appeltaart', 'appeltaart']\n",
      "De totale waarde van de vitrine = 562.0 euro. \n"
     ]
    }
   ],
   "source": [
    "# selecteer recepten\n",
    "gerechten_lijst = []\n",
    "totale_waarde = 0\n",
    "for recept in recepten.keys():\n",
    "    recept_info = recepten[recept]\n",
    "    hoeveelheid_gerechten = len(recept_info['soorten'])\n",
    "    hoeveelheid_soorten = recept_info['max soorten']\n",
    "    gerechten_lijst = []\n",
    "    random_getallen = random.sample(range(0, hoeveelheid_gerechten), hoeveelheid_soorten)\n",
    "    for getal in random_getallen:\n",
    "        gerecht = recept_info['soorten'][getal]\n",
    "        gerechten_lijst.append(gerecht)\n",
    "    prijs_per_recept = recept_info['max soorten'] * recept_info['max hoeveelheid per soort'] * recept_info['prijs']\n",
    "    totale_waarde += prijs_per_recept\n",
    "    print(f'{recept} = {gerechten_lijst}')\n",
    "print(f'De totale waarde van de vitrine = {totale_waarde} euro. ')"
   ]
  },
  {
   "cell_type": "code",
   "execution_count": null,
   "metadata": {},
   "outputs": [],
   "source": []
  }
 ],
 "metadata": {
  "interpreter": {
   "hash": "fb3bf80011972cc507d6825d123de46ba4b56d9ed84f623762d16fd2a55a3ab7"
  },
  "kernelspec": {
   "display_name": "Python 3.9.10 ('base')",
   "language": "python",
   "name": "python3"
  },
  "language_info": {
   "codemirror_mode": {
    "name": "ipython",
    "version": 3
   },
   "file_extension": ".py",
   "mimetype": "text/x-python",
   "name": "python",
   "nbconvert_exporter": "python",
   "pygments_lexer": "ipython3",
   "version": "3.9.10"
  },
  "orig_nbformat": 4
 },
 "nbformat": 4,
 "nbformat_minor": 2
}
